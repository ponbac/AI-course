{
 "cells": [
  {
   "source": [
    "# Assignment 1\n",
    "\n",
    "## 1.\n",
    "\n",
    "### a)"
   ],
   "cell_type": "markdown",
   "metadata": {}
  },
  {
   "cell_type": "code",
   "execution_count": 36,
   "metadata": {},
   "outputs": [
    {
     "output_type": "execute_result",
     "data": {
      "text/plain": [
       "              Entity Code  Year  Total population (Gapminder, HYDE & UN)  \\\n",
       "50200       Zimbabwe  ZWE  2001                               11924000.0   \n",
       "50201       Zimbabwe  ZWE  2002                               11954000.0   \n",
       "50202       Zimbabwe  ZWE  2003                               11982000.0   \n",
       "50203       Zimbabwe  ZWE  2004                               12020000.0   \n",
       "50204       Zimbabwe  ZWE  2005                               12077000.0   \n",
       "50205       Zimbabwe  ZWE  2006                               12155000.0   \n",
       "50206       Zimbabwe  ZWE  2007                               12256000.0   \n",
       "50207       Zimbabwe  ZWE  2008                               12380000.0   \n",
       "50208       Zimbabwe  ZWE  2009                               12527000.0   \n",
       "50209       Zimbabwe  ZWE  2010                               12698000.0   \n",
       "50210       Zimbabwe  ZWE  2011                               12894000.0   \n",
       "50211       Zimbabwe  ZWE  2012                               13115000.0   \n",
       "50212       Zimbabwe  ZWE  2013                               13350000.0   \n",
       "50213       Zimbabwe  ZWE  2014                               13587000.0   \n",
       "50214       Zimbabwe  ZWE  2015                               13815000.0   \n",
       "50215       Zimbabwe  ZWE  2016                               14030000.0   \n",
       "50216       Zimbabwe  ZWE  2017                               14237000.0   \n",
       "50217       Zimbabwe  ZWE  2018                               14439000.0   \n",
       "50218       Zimbabwe  ZWE  2019                               14645000.0   \n",
       "50219  Åland Islands  ALA  2015                                      NaN   \n",
       "\n",
       "      Continent  Life expectancy  \\\n",
       "50200       NaN           44.010   \n",
       "50201       NaN           43.523   \n",
       "50202       NaN           43.195   \n",
       "50203       NaN           43.065   \n",
       "50204       NaN           43.241   \n",
       "50205       NaN           43.853   \n",
       "50206       NaN           44.947   \n",
       "50207       NaN           46.504   \n",
       "50208       NaN           48.449   \n",
       "50209       NaN           50.640   \n",
       "50210       NaN           52.896   \n",
       "50211       NaN           55.032   \n",
       "50212       NaN           56.897   \n",
       "50213       NaN           58.410   \n",
       "50214    Africa           59.534   \n",
       "50215       NaN           60.294   \n",
       "50216       NaN           60.812   \n",
       "50217       NaN           61.195   \n",
       "50218       NaN           61.490   \n",
       "50219    Europe              NaN   \n",
       "\n",
       "       Real GDP per capita in 2011US$, multiple benchmarks (Maddison Project Database (2018))  \n",
       "50200                                             2624.0                                       \n",
       "50201                                             2376.0                                       \n",
       "50202                                             1958.0                                       \n",
       "50203                                             1813.0                                       \n",
       "50204                                             1660.0                                       \n",
       "50205                                             1587.0                                       \n",
       "50206                                             1522.0                                       \n",
       "50207                                             1260.0                                       \n",
       "50208                                             1329.0                                       \n",
       "50209                                             1425.0                                       \n",
       "50210                                             1515.0                                       \n",
       "50211                                             1623.0                                       \n",
       "50212                                             1801.0                                       \n",
       "50213                                             1797.0                                       \n",
       "50214                                             1759.0                                       \n",
       "50215                                             1729.0                                       \n",
       "50216                                                NaN                                       \n",
       "50217                                                NaN                                       \n",
       "50218                                                NaN                                       \n",
       "50219                                                NaN                                       "
      ],
      "text/html": "<div>\n<style scoped>\n    .dataframe tbody tr th:only-of-type {\n        vertical-align: middle;\n    }\n\n    .dataframe tbody tr th {\n        vertical-align: top;\n    }\n\n    .dataframe thead th {\n        text-align: right;\n    }\n</style>\n<table border=\"1\" class=\"dataframe\">\n  <thead>\n    <tr style=\"text-align: right;\">\n      <th></th>\n      <th>Entity</th>\n      <th>Code</th>\n      <th>Year</th>\n      <th>Total population (Gapminder, HYDE &amp; UN)</th>\n      <th>Continent</th>\n      <th>Life expectancy</th>\n      <th>Real GDP per capita in 2011US$, multiple benchmarks (Maddison Project Database (2018))</th>\n    </tr>\n  </thead>\n  <tbody>\n    <tr>\n      <th>50200</th>\n      <td>Zimbabwe</td>\n      <td>ZWE</td>\n      <td>2001</td>\n      <td>11924000.0</td>\n      <td>NaN</td>\n      <td>44.010</td>\n      <td>2624.0</td>\n    </tr>\n    <tr>\n      <th>50201</th>\n      <td>Zimbabwe</td>\n      <td>ZWE</td>\n      <td>2002</td>\n      <td>11954000.0</td>\n      <td>NaN</td>\n      <td>43.523</td>\n      <td>2376.0</td>\n    </tr>\n    <tr>\n      <th>50202</th>\n      <td>Zimbabwe</td>\n      <td>ZWE</td>\n      <td>2003</td>\n      <td>11982000.0</td>\n      <td>NaN</td>\n      <td>43.195</td>\n      <td>1958.0</td>\n    </tr>\n    <tr>\n      <th>50203</th>\n      <td>Zimbabwe</td>\n      <td>ZWE</td>\n      <td>2004</td>\n      <td>12020000.0</td>\n      <td>NaN</td>\n      <td>43.065</td>\n      <td>1813.0</td>\n    </tr>\n    <tr>\n      <th>50204</th>\n      <td>Zimbabwe</td>\n      <td>ZWE</td>\n      <td>2005</td>\n      <td>12077000.0</td>\n      <td>NaN</td>\n      <td>43.241</td>\n      <td>1660.0</td>\n    </tr>\n    <tr>\n      <th>50205</th>\n      <td>Zimbabwe</td>\n      <td>ZWE</td>\n      <td>2006</td>\n      <td>12155000.0</td>\n      <td>NaN</td>\n      <td>43.853</td>\n      <td>1587.0</td>\n    </tr>\n    <tr>\n      <th>50206</th>\n      <td>Zimbabwe</td>\n      <td>ZWE</td>\n      <td>2007</td>\n      <td>12256000.0</td>\n      <td>NaN</td>\n      <td>44.947</td>\n      <td>1522.0</td>\n    </tr>\n    <tr>\n      <th>50207</th>\n      <td>Zimbabwe</td>\n      <td>ZWE</td>\n      <td>2008</td>\n      <td>12380000.0</td>\n      <td>NaN</td>\n      <td>46.504</td>\n      <td>1260.0</td>\n    </tr>\n    <tr>\n      <th>50208</th>\n      <td>Zimbabwe</td>\n      <td>ZWE</td>\n      <td>2009</td>\n      <td>12527000.0</td>\n      <td>NaN</td>\n      <td>48.449</td>\n      <td>1329.0</td>\n    </tr>\n    <tr>\n      <th>50209</th>\n      <td>Zimbabwe</td>\n      <td>ZWE</td>\n      <td>2010</td>\n      <td>12698000.0</td>\n      <td>NaN</td>\n      <td>50.640</td>\n      <td>1425.0</td>\n    </tr>\n    <tr>\n      <th>50210</th>\n      <td>Zimbabwe</td>\n      <td>ZWE</td>\n      <td>2011</td>\n      <td>12894000.0</td>\n      <td>NaN</td>\n      <td>52.896</td>\n      <td>1515.0</td>\n    </tr>\n    <tr>\n      <th>50211</th>\n      <td>Zimbabwe</td>\n      <td>ZWE</td>\n      <td>2012</td>\n      <td>13115000.0</td>\n      <td>NaN</td>\n      <td>55.032</td>\n      <td>1623.0</td>\n    </tr>\n    <tr>\n      <th>50212</th>\n      <td>Zimbabwe</td>\n      <td>ZWE</td>\n      <td>2013</td>\n      <td>13350000.0</td>\n      <td>NaN</td>\n      <td>56.897</td>\n      <td>1801.0</td>\n    </tr>\n    <tr>\n      <th>50213</th>\n      <td>Zimbabwe</td>\n      <td>ZWE</td>\n      <td>2014</td>\n      <td>13587000.0</td>\n      <td>NaN</td>\n      <td>58.410</td>\n      <td>1797.0</td>\n    </tr>\n    <tr>\n      <th>50214</th>\n      <td>Zimbabwe</td>\n      <td>ZWE</td>\n      <td>2015</td>\n      <td>13815000.0</td>\n      <td>Africa</td>\n      <td>59.534</td>\n      <td>1759.0</td>\n    </tr>\n    <tr>\n      <th>50215</th>\n      <td>Zimbabwe</td>\n      <td>ZWE</td>\n      <td>2016</td>\n      <td>14030000.0</td>\n      <td>NaN</td>\n      <td>60.294</td>\n      <td>1729.0</td>\n    </tr>\n    <tr>\n      <th>50216</th>\n      <td>Zimbabwe</td>\n      <td>ZWE</td>\n      <td>2017</td>\n      <td>14237000.0</td>\n      <td>NaN</td>\n      <td>60.812</td>\n      <td>NaN</td>\n    </tr>\n    <tr>\n      <th>50217</th>\n      <td>Zimbabwe</td>\n      <td>ZWE</td>\n      <td>2018</td>\n      <td>14439000.0</td>\n      <td>NaN</td>\n      <td>61.195</td>\n      <td>NaN</td>\n    </tr>\n    <tr>\n      <th>50218</th>\n      <td>Zimbabwe</td>\n      <td>ZWE</td>\n      <td>2019</td>\n      <td>14645000.0</td>\n      <td>NaN</td>\n      <td>61.490</td>\n      <td>NaN</td>\n    </tr>\n    <tr>\n      <th>50219</th>\n      <td>Åland Islands</td>\n      <td>ALA</td>\n      <td>2015</td>\n      <td>NaN</td>\n      <td>Europe</td>\n      <td>NaN</td>\n      <td>NaN</td>\n    </tr>\n  </tbody>\n</table>\n</div>"
     },
     "metadata": {},
     "execution_count": 36
    }
   ],
   "source": [
    "import pandas as pd\n",
    "\n",
    "df = pd.read_csv('datasets\\life-expectancy-vs-gdp-per-capita.csv')\n",
    "df.tail(20)\n",
    "# df.describe()"
   ]
  },
  {
   "cell_type": "code",
   "execution_count": null,
   "metadata": {},
   "outputs": [],
   "source": [
    "df.columns"
   ]
  },
  {
   "cell_type": "code",
   "execution_count": null,
   "metadata": {},
   "outputs": [],
   "source": [
    "countries = df['Entity']\n",
    "countries = set(countries)\n",
    "countries"
   ]
  },
  {
   "cell_type": "code",
   "execution_count": null,
   "metadata": {},
   "outputs": [],
   "source": [
    "gdp2000 = df[df['Year'] == 2012]\n",
    "gdp2000 = pd.DataFrame(gdp2000, columns=['Entity', 'Year', 'Real GDP per capita in 2011US$, multiple benchmarks (Maddison Project Database (2018))', 'Life expectancy'])\n",
    "gdp2000.dropna(subset=['Real GDP per capita in 2011US$, multiple benchmarks (Maddison Project Database (2018))'], inplace=True)\n",
    "gdp2000.dropna(subset=['Life expectancy'], inplace=True)\n",
    "gdp2000\n"
   ]
  },
  {
   "cell_type": "code",
   "execution_count": null,
   "metadata": {},
   "outputs": [],
   "source": [
    "import matplotlib.pyplot as plt\n",
    "import numpy as np\n",
    "\n",
    "x = gdp2000['Real GDP per capita in 2011US$, multiple benchmarks (Maddison Project Database (2018))']\n",
    "y = gdp2000['Life expectancy']\n",
    "\n",
    "plt.scatter(x, y)\n",
    "plt.xlim(0, 50000)\n",
    "plt.ylim(45, 85)\n",
    "\n",
    "m, b = np.polyfit(x, y, 1)\n",
    "plt.plot(x, m*x + b, color='red')"
   ]
  },
  {
   "cell_type": "code",
   "execution_count": null,
   "metadata": {},
   "outputs": [],
   "source": []
  }
 ],
 "metadata": {
  "kernelspec": {
   "display_name": "Python 3",
   "language": "python",
   "name": "python3"
  },
  "language_info": {
   "codemirror_mode": {
    "name": "ipython",
    "version": 3
   },
   "file_extension": ".py",
   "mimetype": "text/x-python",
   "name": "python",
   "nbconvert_exporter": "python",
   "pygments_lexer": "ipython3",
   "version": "3.8.5-final"
  }
 },
 "nbformat": 4,
 "nbformat_minor": 4
}