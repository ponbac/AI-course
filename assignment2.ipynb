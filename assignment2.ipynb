{
 "cells": [
  {
   "cell_type": "markdown",
   "metadata": {},
   "source": [
    "# Assignment 2\r\n",
    "\r\n",
    "## Pontus Backman and Andreas Pettersson\r\n",
    "\r\n",
    "## 1\r\n",
    "\r\n",
    "### a)\r\n"
   ]
  },
  {
   "cell_type": "code",
   "execution_count": 21,
   "metadata": {},
   "outputs": [
    {
     "data": {
      "text/html": "<div>\n<style scoped>\n    .dataframe tbody tr th:only-of-type {\n        vertical-align: middle;\n    }\n\n    .dataframe tbody tr th {\n        vertical-align: top;\n    }\n\n    .dataframe thead th {\n        text-align: right;\n    }\n</style>\n<table border=\"1\" class=\"dataframe\">\n  <thead>\n    <tr style=\"text-align: right;\">\n      <th></th>\n      <th>ID</th>\n      <th>Living_area</th>\n      <th>Rooms</th>\n      <th>Land_size</th>\n      <th>Biarea</th>\n      <th>Age</th>\n      <th>Selling_price</th>\n    </tr>\n  </thead>\n  <tbody>\n    <tr>\n      <th>0</th>\n      <td>1</td>\n      <td>104</td>\n      <td>5.0</td>\n      <td>271.0</td>\n      <td>25.0</td>\n      <td>33</td>\n      <td>4600000</td>\n    </tr>\n    <tr>\n      <th>1</th>\n      <td>2</td>\n      <td>99</td>\n      <td>5.0</td>\n      <td>1506.0</td>\n      <td>6.0</td>\n      <td>88</td>\n      <td>4450000</td>\n    </tr>\n    <tr>\n      <th>2</th>\n      <td>3</td>\n      <td>133</td>\n      <td>6.0</td>\n      <td>486.0</td>\n      <td>NaN</td>\n      <td>44</td>\n      <td>4900000</td>\n    </tr>\n    <tr>\n      <th>3</th>\n      <td>4</td>\n      <td>175</td>\n      <td>7.0</td>\n      <td>728.0</td>\n      <td>NaN</td>\n      <td>14</td>\n      <td>6625000</td>\n    </tr>\n    <tr>\n      <th>4</th>\n      <td>5</td>\n      <td>118</td>\n      <td>6.0</td>\n      <td>1506.0</td>\n      <td>NaN</td>\n      <td>29</td>\n      <td>4600000</td>\n    </tr>\n  </tbody>\n</table>\n</div>",
      "text/plain": "   ID  Living_area  Rooms  Land_size  Biarea  Age  Selling_price\n0   1          104    5.0      271.0    25.0   33        4600000\n1   2           99    5.0     1506.0     6.0   88        4450000\n2   3          133    6.0      486.0     NaN   44        4900000\n3   4          175    7.0      728.0     NaN   14        6625000\n4   5          118    6.0     1506.0     NaN   29        4600000"
     },
     "execution_count": 21,
     "metadata": {},
     "output_type": "execute_result"
    }
   ],
   "source": [
    "import pandas as pd\r\n",
    "\r\n",
    "df = pd.read_csv('datasets\\data_assignment2.csv')\r\n",
    "houseprices = df\r\n",
    "houseprices.head()"
   ]
  },
  {
   "cell_type": "code",
   "execution_count": null,
   "metadata": {},
   "outputs": [],
   "source": [
    "import matplotlib.pyplot as plt\r\n",
    "import numpy as np\r\n",
    "\r\n",
    "x = houseprices['Living_area']\r\n",
    "y = houseprices['Selling_price']\r\n",
    "\r\n",
    "plt.scatter(x,y)"
   ]
  }
 ],
 "metadata": {
  "kernelspec": {
   "display_name": "Python 3",
   "name": "python3"
  },
  "language_info": {
   "codemirror_mode": {
    "name": "ipython",
    "version": 3
   },
   "file_extension": ".py",
   "mimetype": "text/x-python",
   "name": "python",
   "nbconvert_exporter": "python",
   "pygments_lexer": "ipython3",
   "version": "3.8.5"
  },
  "orig_nbformat": 2
 },
 "nbformat": 4,
 "nbformat_minor": 2
}